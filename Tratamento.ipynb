{
 "cells": [
  {
   "cell_type": "code",
   "execution_count": 46,
   "id": "fc16eb87-801a-4e93-9698-32186e513de0",
   "metadata": {},
   "outputs": [],
   "source": [
    "import pandas as pd"
   ]
  },
  {
   "cell_type": "code",
   "execution_count": 48,
   "id": "762e68e6-d553-47f1-9c32-79547d26ac32",
   "metadata": {},
   "outputs": [],
   "source": [
    "df = pd.read_csv(\"archive/vgsales.csv\")"
   ]
  },
  {
   "cell_type": "code",
   "execution_count": 50,
   "id": "a738fd27-f1c4-4a15-8514-f8edb1336b61",
   "metadata": {},
   "outputs": [
    {
     "name": "stdout",
     "output_type": "stream",
     "text": [
      "   Rank                      Name Platform    Year         Genre Publisher  \\\n",
      "0     1                Wii Sports      Wii  2006.0        Sports  Nintendo   \n",
      "1     2         Super Mario Bros.      NES  1985.0      Platform  Nintendo   \n",
      "2     3            Mario Kart Wii      Wii  2008.0        Racing  Nintendo   \n",
      "3     4         Wii Sports Resort      Wii  2009.0        Sports  Nintendo   \n",
      "4     5  Pokemon Red/Pokemon Blue       GB  1996.0  Role-Playing  Nintendo   \n",
      "\n",
      "   NA_Sales  EU_Sales  JP_Sales  Other_Sales  Global_Sales  \n",
      "0     41.49     29.02      3.77         8.46         82.74  \n",
      "1     29.08      3.58      6.81         0.77         40.24  \n",
      "2     15.85     12.88      3.79         3.31         35.82  \n",
      "3     15.75     11.01      3.28         2.96         33.00  \n",
      "4     11.27      8.89     10.22         1.00         31.37  \n"
     ]
    }
   ],
   "source": [
    "print(df.head())"
   ]
  },
  {
   "cell_type": "code",
   "execution_count": 52,
   "id": "ade976a1-edfc-4d49-b5e1-62bfdb494f37",
   "metadata": {},
   "outputs": [
    {
     "name": "stdout",
     "output_type": "stream",
     "text": [
      "Rank              0\n",
      "Name              0\n",
      "Platform          0\n",
      "Year            271\n",
      "Genre             0\n",
      "Publisher        58\n",
      "NA_Sales          0\n",
      "EU_Sales          0\n",
      "JP_Sales          0\n",
      "Other_Sales       0\n",
      "Global_Sales      0\n",
      "dtype: int64\n"
     ]
    }
   ],
   "source": [
    "print(df.isnull().sum())"
   ]
  },
  {
   "cell_type": "code",
   "execution_count": 54,
   "id": "df7848d2-fb24-45a0-b74e-3d4a64261b54",
   "metadata": {},
   "outputs": [],
   "source": [
    "df.dropna(inplace=True)"
   ]
  },
  {
   "cell_type": "code",
   "execution_count": 56,
   "id": "94097aad-1fa9-493f-9904-a8b77890ca9a",
   "metadata": {},
   "outputs": [],
   "source": [
    "df[\"Year\"] = df[\"Year\"].fillna(df[\"Year\"].median())"
   ]
  },
  {
   "cell_type": "code",
   "execution_count": 58,
   "id": "ba68c4b4-2c1e-45da-bf3f-0eb4df7a0405",
   "metadata": {},
   "outputs": [],
   "source": [
    "df[\"Year\"] = pd.to_numeric(df[\"Year\"], errors=\"coerce\").astype(\"Int64\")"
   ]
  },
  {
   "cell_type": "code",
   "execution_count": 60,
   "id": "c0413281-dc3c-4b0b-97fa-67fe0487fa39",
   "metadata": {},
   "outputs": [
    {
     "name": "stdout",
     "output_type": "stream",
     "text": [
      "Rank              int64\n",
      "Name             object\n",
      "Platform         object\n",
      "Year              Int64\n",
      "Genre            object\n",
      "Publisher        object\n",
      "NA_Sales        float64\n",
      "EU_Sales        float64\n",
      "JP_Sales        float64\n",
      "Other_Sales     float64\n",
      "Global_Sales    float64\n",
      "dtype: object\n"
     ]
    }
   ],
   "source": [
    "print(df.dtypes)"
   ]
  },
  {
   "cell_type": "code",
   "execution_count": 62,
   "id": "b15520a1-eb46-4357-9334-286ed10fade7",
   "metadata": {},
   "outputs": [],
   "source": [
    "df[\"Total_Regional_Sales\"] = df[\"NA_Sales\"] + df[\"EU_Sales\"] + df[\"JP_Sales\"] + df[\"Other_Sales\"]"
   ]
  },
  {
   "cell_type": "code",
   "execution_count": null,
   "id": "97d3ed4b-d96c-4a3c-b1ef-44a2ae5b5de9",
   "metadata": {},
   "outputs": [],
   "source": []
  },
  {
   "cell_type": "code",
   "execution_count": 65,
   "id": "b5ae0827-c9a8-4e32-8673-339c33693053",
   "metadata": {},
   "outputs": [
    {
     "name": "stdout",
     "output_type": "stream",
     "text": [
      "Rank                      int64\n",
      "Name                     object\n",
      "Platform                 object\n",
      "Year                      Int64\n",
      "Genre                    object\n",
      "Publisher                object\n",
      "NA_Sales                float64\n",
      "EU_Sales                float64\n",
      "JP_Sales                float64\n",
      "Other_Sales             float64\n",
      "Global_Sales            float64\n",
      "Total_Regional_Sales    float64\n",
      "dtype: object\n"
     ]
    }
   ],
   "source": [
    "print(df.dtypes)"
   ]
  },
  {
   "cell_type": "code",
   "execution_count": 71,
   "id": "9ffbb63c-c27d-41ca-a896-31f417237bcb",
   "metadata": {},
   "outputs": [
    {
     "name": "stdout",
     "output_type": "stream",
     "text": [
      "                        Name  Global_Sales\n",
      "0                 Wii Sports         82.74\n",
      "1          Super Mario Bros.         40.24\n",
      "2             Mario Kart Wii         35.82\n",
      "3          Wii Sports Resort         33.00\n",
      "4   Pokemon Red/Pokemon Blue         31.37\n",
      "5                     Tetris         30.26\n",
      "6      New Super Mario Bros.         30.01\n",
      "7                   Wii Play         29.02\n",
      "8  New Super Mario Bros. Wii         28.62\n",
      "9                  Duck Hunt         28.31\n"
     ]
    }
   ],
   "source": [
    "top_games = df[[\"Name\", \"Global_Sales\"]].sort_values(by=\"Global_Sales\", ascending=False).head(10)\n",
    "print(top_games)"
   ]
  },
  {
   "cell_type": "code",
   "execution_count": 75,
   "id": "eb0a1e29-c109-462d-aa7d-ed43ffc92238",
   "metadata": {},
   "outputs": [],
   "source": [
    "df.to_csv(\"vgsales.csv\", index=False, sep=\";\", decimal=\",\")  "
   ]
  },
  {
   "cell_type": "code",
   "execution_count": null,
   "id": "a2d5e659-d297-4ac7-be85-ef654203cf80",
   "metadata": {},
   "outputs": [],
   "source": []
  }
 ],
 "metadata": {
  "kernelspec": {
   "display_name": "Python 3 (ipykernel)",
   "language": "python",
   "name": "python3"
  },
  "language_info": {
   "codemirror_mode": {
    "name": "ipython",
    "version": 3
   },
   "file_extension": ".py",
   "mimetype": "text/x-python",
   "name": "python",
   "nbconvert_exporter": "python",
   "pygments_lexer": "ipython3",
   "version": "3.12.4"
  }
 },
 "nbformat": 4,
 "nbformat_minor": 5
}
